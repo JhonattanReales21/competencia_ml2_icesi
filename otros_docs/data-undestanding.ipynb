{
 "cells": [
  {
   "cell_type": "code",
   "execution_count": null,
   "id": "5736d001",
   "metadata": {
    "execution": {
     "iopub.execute_input": "2025-03-24T21:14:26.306656Z",
     "iopub.status.busy": "2025-03-24T21:14:26.306294Z",
     "iopub.status.idle": "2025-03-24T21:14:29.581602Z",
     "shell.execute_reply": "2025-03-24T21:14:29.580037Z"
    },
    "papermill": {
     "duration": 3.29148,
     "end_time": "2025-03-24T21:14:29.583697",
     "exception": false,
     "start_time": "2025-03-24T21:14:26.292217",
     "status": "completed"
    },
    "tags": []
   },
   "outputs": [],
   "source": [
    "import pickle\n",
    "\n",
    "import numpy as np  # linear algebra\n",
    "import pandas as pd  # data processing, CSV file I/O (e.g. pd.read_csv)\n",
    "import pandas as pd\n",
    "import os.path as osp\n",
    "import os\n",
    "from sklearn.model_selection import train_test_split\n",
    "from sklearn.pipeline import Pipeline\n",
    "from sklearn.preprocessing import StandardScaler, MinMaxScaler, OneHotEncoder\n",
    "from sklearn.impute import SimpleImputer\n",
    "from sklearn.compose import ColumnTransformer\n",
    "from sklearn.svm import SVC\n",
    "from sklearn.linear_model import LogisticRegression\n",
    "from sklearn.discriminant_analysis import LinearDiscriminantAnalysis  # LDA\n",
    "from sklearn.decomposition import PCA\n",
    "from sklearn.feature_selection import (\n",
    "    SelectFromModel,\n",
    ")  # para seleccionar los coeficientes de lasso\n",
    "from sklearn.metrics import roc_auc_score, f1_score\n",
    "from sklearn import set_config\n",
    "\n",
    "set_config(display=\"diagram\")\n",
    "\n",
    "from sklearn.impute import KNNImputer\n",
    "from sklearn.preprocessing import MinMaxScaler\n",
    "from sklearn.model_selection import KFold\n",
    "from sklearn.neural_network import MLPClassifier\n",
    "from bayes_opt import BayesianOptimization\n",
    "from bayes_opt.logger import JSONLogger\n",
    "from bayes_opt.event import Events\n",
    "\n",
    "import matplotlib.pyplot as plt\n",
    "\n",
    "# Input data files are available in the read-only \"../input/\" directory\n",
    "# For example, running this (by clicking run or pressing Shift+Enter) will list all files under the input directory\n",
    "\n",
    "\n",
    "# You can write up to 20GB to the current directory (/kaggle/working/) that gets preserved as output when you create a version using \"Save & Run All\"\n",
    "# You can also write temporary files to /kaggle/temp/, but they won't be saved outside of the current session"
   ]
  },
  {
   "cell_type": "code",
   "execution_count": null,
   "id": "831e9200",
   "metadata": {
    "execution": {
     "iopub.execute_input": "2025-03-24T21:14:29.609567Z",
     "iopub.status.busy": "2025-03-24T21:14:29.608981Z",
     "iopub.status.idle": "2025-03-24T21:14:30.235371Z",
     "shell.execute_reply": "2025-03-24T21:14:30.234025Z"
    },
    "papermill": {
     "duration": 0.640956,
     "end_time": "2025-03-24T21:14:30.237237",
     "exception": false,
     "start_time": "2025-03-24T21:14:29.596281",
     "status": "completed"
    },
    "tags": []
   },
   "outputs": [],
   "source": [
    "# Importamos las librerias que usaremos en este practica\n",
    "\n",
    "import pandas as pd\n",
    "import numpy as np\n",
    "import seaborn as sns\n",
    "import matplotlib.pyplot as plt\n",
    "\n",
    "# importar libreria para leer yaml\n",
    "import os\n",
    "import os.path as osp\n",
    "import re\n",
    "import yaml\n",
    "\n",
    "\n",
    "# Manejo de Warnings\n",
    "import warnings\n",
    "\n",
    "warnings.filterwarnings(\"ignore\")\n",
    "\n",
    "sns.set_theme(style=\"whitegrid\")\n",
    "sns.set_style(\"whitegrid\")\n",
    "\n",
    "for dirname, _, filenames in os.walk(\"/kaggle/input\"):\n",
    "    for filename in filenames:\n",
    "        print(os.path.join(dirname, filename))"
   ]
  },
  {
   "cell_type": "code",
   "execution_count": null,
   "id": "09f141b6",
   "metadata": {
    "execution": {
     "iopub.execute_input": "2025-03-24T21:14:30.262727Z",
     "iopub.status.busy": "2025-03-24T21:14:30.262193Z",
     "iopub.status.idle": "2025-03-24T21:14:30.529811Z",
     "shell.execute_reply": "2025-03-24T21:14:30.527975Z"
    },
    "papermill": {
     "duration": 0.282633,
     "end_time": "2025-03-24T21:14:30.532154",
     "exception": false,
     "start_time": "2025-03-24T21:14:30.249521",
     "status": "completed"
    },
    "tags": []
   },
   "outputs": [],
   "source": [
    "DATA_DIR = \"/kaggle/input/fa-i-2025-i-modelos-tradicionales-ca-mama/\"\n",
    "df = pd.read_parquet(osp.join(DATA_DIR, \"df_train.parquet\"))\n",
    "df.head()"
   ]
  },
  {
   "cell_type": "code",
   "execution_count": null,
   "id": "1bcf31e5",
   "metadata": {
    "execution": {
     "iopub.execute_input": "2025-03-24T21:14:30.557798Z",
     "iopub.status.busy": "2025-03-24T21:14:30.557405Z",
     "iopub.status.idle": "2025-03-24T21:14:30.589455Z",
     "shell.execute_reply": "2025-03-24T21:14:30.587853Z"
    },
    "papermill": {
     "duration": 0.046766,
     "end_time": "2025-03-24T21:14:30.591333",
     "exception": false,
     "start_time": "2025-03-24T21:14:30.544567",
     "status": "completed"
    },
    "tags": []
   },
   "outputs": [],
   "source": [
    "df.info()"
   ]
  },
  {
   "cell_type": "markdown",
   "id": "b8ef3120",
   "metadata": {
    "papermill": {
     "duration": 0.013068,
     "end_time": "2025-03-24T21:14:30.618348",
     "exception": false,
     "start_time": "2025-03-24T21:14:30.605280",
     "status": "completed"
    },
    "tags": []
   },
   "source": [
    "Dados los valores nulos las columnas, podriamos centrarnos en revisar (para una posible imputacion o eliminacion de caracteristicas) en :\n",
    "\n",
    "| Indice | Nombre        | Nulos  | Tipo     |\n",
    "|--------|---------------|--------|----------|\n",
    "| 4      | MULTI_CANCER  | 337    | object   |\n",
    "| 12     | PESO          | 3822   | float64  |\n",
    "| 13     | TALLA         | 3822   | float64  |\n",
    "| 15     | TSISTOLICA    | 3815   | float64  |\n",
    "| 16     | TDIASTOLICA   | 3815   | float64  |\n"
   ]
  },
  {
   "cell_type": "markdown",
   "id": "6b4749c3",
   "metadata": {
    "papermill": {
     "duration": 0.011723,
     "end_time": "2025-03-24T21:14:30.642082",
     "exception": false,
     "start_time": "2025-03-24T21:14:30.630359",
     "status": "completed"
    },
    "tags": []
   },
   "source": [
    "## Analisis de Variables\n",
    "Categoricas y Numericas (relevantes)"
   ]
  },
  {
   "cell_type": "markdown",
   "id": "e03167e8",
   "metadata": {
    "papermill": {
     "duration": 0.011779,
     "end_time": "2025-03-24T21:14:30.665879",
     "exception": false,
     "start_time": "2025-03-24T21:14:30.654100",
     "status": "completed"
    },
    "tags": []
   },
   "source": [
    "### Genero de Pacientes\n",
    "Categorica"
   ]
  },
  {
   "cell_type": "code",
   "execution_count": null,
   "id": "8ebc2903",
   "metadata": {
    "execution": {
     "iopub.execute_input": "2025-03-24T21:14:30.691034Z",
     "iopub.status.busy": "2025-03-24T21:14:30.690595Z",
     "iopub.status.idle": "2025-03-24T21:14:30.697847Z",
     "shell.execute_reply": "2025-03-24T21:14:30.696704Z"
    },
    "papermill": {
     "duration": 0.02188,
     "end_time": "2025-03-24T21:14:30.699630",
     "exception": false,
     "start_time": "2025-03-24T21:14:30.677750",
     "status": "completed"
    },
    "tags": []
   },
   "outputs": [],
   "source": [
    "df.GENERO.unique()"
   ]
  },
  {
   "cell_type": "code",
   "execution_count": null,
   "id": "27ecf6e5",
   "metadata": {
    "execution": {
     "iopub.execute_input": "2025-03-24T21:14:30.725742Z",
     "iopub.status.busy": "2025-03-24T21:14:30.725380Z",
     "iopub.status.idle": "2025-03-24T21:14:31.030847Z",
     "shell.execute_reply": "2025-03-24T21:14:31.029268Z"
    },
    "papermill": {
     "duration": 0.32113,
     "end_time": "2025-03-24T21:14:31.033505",
     "exception": false,
     "start_time": "2025-03-24T21:14:30.712375",
     "status": "completed"
    },
    "tags": []
   },
   "outputs": [],
   "source": [
    "sns.countplot(x=df.GENERO, palette=\"tab20\")"
   ]
  },
  {
   "cell_type": "markdown",
   "id": "c496a230",
   "metadata": {
    "papermill": {
     "duration": 0.017929,
     "end_time": "2025-03-24T21:14:31.069085",
     "exception": false,
     "start_time": "2025-03-24T21:14:31.051156",
     "status": "completed"
    },
    "tags": []
   },
   "source": [
    "### Estado civil pacientes\n",
    "Categorica"
   ]
  },
  {
   "cell_type": "code",
   "execution_count": null,
   "id": "f62d186b",
   "metadata": {
    "execution": {
     "iopub.execute_input": "2025-03-24T21:14:31.103086Z",
     "iopub.status.busy": "2025-03-24T21:14:31.102682Z",
     "iopub.status.idle": "2025-03-24T21:14:31.110398Z",
     "shell.execute_reply": "2025-03-24T21:14:31.108969Z"
    },
    "papermill": {
     "duration": 0.028309,
     "end_time": "2025-03-24T21:14:31.112519",
     "exception": false,
     "start_time": "2025-03-24T21:14:31.084210",
     "status": "completed"
    },
    "tags": []
   },
   "outputs": [],
   "source": [
    "df.ESTADO_CIVIL.unique()"
   ]
  },
  {
   "cell_type": "code",
   "execution_count": null,
   "id": "5f660626",
   "metadata": {
    "execution": {
     "iopub.execute_input": "2025-03-24T21:14:31.140892Z",
     "iopub.status.busy": "2025-03-24T21:14:31.140369Z",
     "iopub.status.idle": "2025-03-24T21:14:31.510396Z",
     "shell.execute_reply": "2025-03-24T21:14:31.509223Z"
    },
    "papermill": {
     "duration": 0.386742,
     "end_time": "2025-03-24T21:14:31.512734",
     "exception": false,
     "start_time": "2025-03-24T21:14:31.125992",
     "status": "completed"
    },
    "tags": []
   },
   "outputs": [],
   "source": [
    "sns.countplot(x=df.ESTADO_CIVIL, palette=\"tab20\")"
   ]
  },
  {
   "cell_type": "markdown",
   "id": "e3fc0c90",
   "metadata": {
    "papermill": {
     "duration": 0.012716,
     "end_time": "2025-03-24T21:14:31.538770",
     "exception": false,
     "start_time": "2025-03-24T21:14:31.526054",
     "status": "completed"
    },
    "tags": []
   },
   "source": [
    "### No. Cancer diagnosticado por paciente\n",
    "Categorica"
   ]
  },
  {
   "cell_type": "code",
   "execution_count": null,
   "id": "18fa579a",
   "metadata": {
    "execution": {
     "iopub.execute_input": "2025-03-24T21:14:31.566596Z",
     "iopub.status.busy": "2025-03-24T21:14:31.566192Z",
     "iopub.status.idle": "2025-03-24T21:14:31.572773Z",
     "shell.execute_reply": "2025-03-24T21:14:31.571647Z"
    },
    "papermill": {
     "duration": 0.022399,
     "end_time": "2025-03-24T21:14:31.574495",
     "exception": false,
     "start_time": "2025-03-24T21:14:31.552096",
     "status": "completed"
    },
    "tags": []
   },
   "outputs": [],
   "source": [
    "df.MULTI_CANCER.unique()"
   ]
  },
  {
   "cell_type": "code",
   "execution_count": null,
   "id": "9d65d980",
   "metadata": {
    "execution": {
     "iopub.execute_input": "2025-03-24T21:14:31.602757Z",
     "iopub.status.busy": "2025-03-24T21:14:31.602360Z",
     "iopub.status.idle": "2025-03-24T21:14:31.821659Z",
     "shell.execute_reply": "2025-03-24T21:14:31.820391Z"
    },
    "papermill": {
     "duration": 0.235444,
     "end_time": "2025-03-24T21:14:31.823445",
     "exception": false,
     "start_time": "2025-03-24T21:14:31.588001",
     "status": "completed"
    },
    "tags": []
   },
   "outputs": [],
   "source": [
    "df_Cancer = df\n",
    "# Dados los nulos revisaremos estos valores\n",
    "tabla_distribucion = df_Cancer[\"MULTI_CANCER\"].value_counts(dropna=False).reset_index()\n",
    "tabla_distribucion.columns = [\"Valor\", \"Conteo\"]\n",
    "\n",
    "# Mostrar la tabla\n",
    "print(tabla_distribucion)\n",
    "\n",
    "plt.figure(figsize=(8, 6))\n",
    "ax = sns.countplot(data=df_Cancer, x=\"MULTI_CANCER\", palette=\"Set2\")\n",
    "plt.title(\"Distribución de valores únicos en MULTI_CANCER\")\n",
    "plt.xlabel(\"Valor\")\n",
    "plt.ylabel(\"Conteo\")\n",
    "for p in ax.patches:\n",
    "    ax.annotate(\n",
    "        format(p.get_height(), \".0f\"),\n",
    "        (p.get_x() + p.get_width() / 2.0, p.get_height()),\n",
    "        ha=\"center\",\n",
    "        va=\"center\",\n",
    "        xytext=(0, 5),\n",
    "        textcoords=\"offset points\",\n",
    "    )\n",
    "\n",
    "plt.show()"
   ]
  },
  {
   "cell_type": "markdown",
   "id": "2b0dd037",
   "metadata": {
    "papermill": {
     "duration": 0.014443,
     "end_time": "2025-03-24T21:14:31.852002",
     "exception": false,
     "start_time": "2025-03-24T21:14:31.837559",
     "status": "completed"
    },
    "tags": []
   },
   "source": [
    "Dada la naturaleza de los datos y conocimiento de negocio, sera necesario realizar imputacion por un valor constante : 0 "
   ]
  },
  {
   "cell_type": "markdown",
   "id": "3d406e14",
   "metadata": {
    "papermill": {
     "duration": 0.013774,
     "end_time": "2025-03-24T21:14:31.879693",
     "exception": false,
     "start_time": "2025-03-24T21:14:31.865919",
     "status": "completed"
    },
    "tags": []
   },
   "source": [
    "### Peso de Pacientes\n",
    "Numerica "
   ]
  },
  {
   "cell_type": "code",
   "execution_count": null,
   "id": "0cf49113",
   "metadata": {
    "execution": {
     "iopub.execute_input": "2025-03-24T21:14:31.909193Z",
     "iopub.status.busy": "2025-03-24T21:14:31.908745Z",
     "iopub.status.idle": "2025-03-24T21:14:31.922659Z",
     "shell.execute_reply": "2025-03-24T21:14:31.921504Z"
    },
    "papermill": {
     "duration": 0.030668,
     "end_time": "2025-03-24T21:14:31.924238",
     "exception": false,
     "start_time": "2025-03-24T21:14:31.893570",
     "status": "completed"
    },
    "tags": []
   },
   "outputs": [],
   "source": [
    "# print(df.PESO.unique())\n",
    "df.PESO = pd.to_numeric(df.PESO, errors=\"coerce\")\n",
    "\n",
    "df_peso = df\n",
    "total_observaciones = df_peso.shape[0]\n",
    "distribucion_peso = df_peso[\"PESO\"].value_counts(dropna=False).reset_index()\n",
    "distribucion_peso.columns = [\"Valor\", \"Conteo\"]\n",
    "distribucion_peso[\"Porcentaje\"] = distribucion_peso[\"Conteo\"] / total_observaciones\n",
    "na_values = distribucion_peso[distribucion_peso[\"Valor\"].isna()]\n",
    "print(f\"Valores Nulos en PESO,\\n{na_values}\")"
   ]
  },
  {
   "cell_type": "code",
   "execution_count": null,
   "id": "deb08308",
   "metadata": {
    "execution": {
     "iopub.execute_input": "2025-03-24T21:14:31.955778Z",
     "iopub.status.busy": "2025-03-24T21:14:31.955422Z",
     "iopub.status.idle": "2025-03-24T21:14:31.968779Z",
     "shell.execute_reply": "2025-03-24T21:14:31.967447Z"
    },
    "papermill": {
     "duration": 0.031328,
     "end_time": "2025-03-24T21:14:31.971022",
     "exception": false,
     "start_time": "2025-03-24T21:14:31.939694",
     "status": "completed"
    },
    "tags": []
   },
   "outputs": [],
   "source": [
    "# Definir los límites de los grupos\n",
    "grupos = [30, 50, 70, 90, 110, 130]\n",
    "\n",
    "# Definir las etiquetas de los grupos\n",
    "etiquetas = [\"30-50\", \"50-70\", \"70-90\", \"90-110\", \"110-130\"]\n",
    "\n",
    "# Crear una nueva columna en el DataFrame que contenga las categorías de los pesos\n",
    "df_peso = pd.cut(df[\"PESO\"], bins=grupos, labels=etiquetas, right=False)\n",
    "\n",
    "# Contar cuántas observaciones hay en cada categoría\n",
    "pesos_agrupados = df_peso.value_counts().sort_index()\n",
    "\n",
    "print(pesos_agrupados)"
   ]
  },
  {
   "cell_type": "code",
   "execution_count": null,
   "id": "12a107ff",
   "metadata": {
    "execution": {
     "iopub.execute_input": "2025-03-24T21:14:32.001891Z",
     "iopub.status.busy": "2025-03-24T21:14:32.001490Z",
     "iopub.status.idle": "2025-03-24T21:14:32.336155Z",
     "shell.execute_reply": "2025-03-24T21:14:32.334952Z"
    },
    "papermill": {
     "duration": 0.352284,
     "end_time": "2025-03-24T21:14:32.338054",
     "exception": false,
     "start_time": "2025-03-24T21:14:31.985770",
     "status": "completed"
    },
    "tags": []
   },
   "outputs": [],
   "source": [
    "df_peso = df[\"PESO\"]\n",
    "\n",
    "# Crear el histograma\n",
    "plt.hist(df_peso, color=\"skyblue\", edgecolor=\"black\")\n",
    "\n",
    "# Etiquetas y título\n",
    "plt.xlabel(\"Peso\")\n",
    "plt.ylabel(\"Frecuencia\")\n",
    "plt.title(\"Agrupaciones por peso\")\n",
    "\n",
    "# Mostrar el gráfico\n",
    "plt.show()"
   ]
  },
  {
   "cell_type": "markdown",
   "id": "4cf7ffc7",
   "metadata": {
    "papermill": {
     "duration": 0.014636,
     "end_time": "2025-03-24T21:14:32.367529",
     "exception": false,
     "start_time": "2025-03-24T21:14:32.352893",
     "status": "completed"
    },
    "tags": []
   },
   "source": [
    "### Talla de pacientes\n",
    "Numerica"
   ]
  },
  {
   "cell_type": "code",
   "execution_count": null,
   "id": "e7d6b7f5",
   "metadata": {
    "execution": {
     "iopub.execute_input": "2025-03-24T21:14:32.399609Z",
     "iopub.status.busy": "2025-03-24T21:14:32.399233Z",
     "iopub.status.idle": "2025-03-24T21:14:32.406949Z",
     "shell.execute_reply": "2025-03-24T21:14:32.405800Z"
    },
    "papermill": {
     "duration": 0.025274,
     "end_time": "2025-03-24T21:14:32.408786",
     "exception": false,
     "start_time": "2025-03-24T21:14:32.383512",
     "status": "completed"
    },
    "tags": []
   },
   "outputs": [],
   "source": [
    "df.TALLA.value_counts().sum()  # pdte -> imputar"
   ]
  },
  {
   "cell_type": "code",
   "execution_count": null,
   "id": "31270e37",
   "metadata": {
    "execution": {
     "iopub.execute_input": "2025-03-24T21:14:32.440395Z",
     "iopub.status.busy": "2025-03-24T21:14:32.440038Z",
     "iopub.status.idle": "2025-03-24T21:14:32.452245Z",
     "shell.execute_reply": "2025-03-24T21:14:32.451058Z"
    },
    "papermill": {
     "duration": 0.029697,
     "end_time": "2025-03-24T21:14:32.454062",
     "exception": false,
     "start_time": "2025-03-24T21:14:32.424365",
     "status": "completed"
    },
    "tags": []
   },
   "outputs": [],
   "source": [
    "# df_talla = df[df['TALLA'] != '-']\n",
    "# print(df.TALLA.unique())}\n",
    "df_talla = df\n",
    "df_talla[\"TALLA\"] = pd.to_numeric(df[\"TALLA\"], errors=\"coerce\")\n",
    "\n",
    "df_talla_ = df_talla\n",
    "total_observaciones = df_talla_.shape[0]\n",
    "distribucion_talla = df_talla_[\"TALLA\"].value_counts(dropna=False).reset_index()\n",
    "distribucion_talla.columns = [\"Valor\", \"Conteo\"]\n",
    "distribucion_talla[\"Porcentaje\"] = distribucion_talla[\"Conteo\"] / total_observaciones\n",
    "na_values = distribucion_talla[distribucion_talla[\"Valor\"].isna()]\n",
    "print(f\"Valores Nulos en TALLA,\\n{na_values}\")"
   ]
  },
  {
   "cell_type": "code",
   "execution_count": null,
   "id": "a4103896",
   "metadata": {
    "execution": {
     "iopub.execute_input": "2025-03-24T21:14:32.485476Z",
     "iopub.status.busy": "2025-03-24T21:14:32.485032Z",
     "iopub.status.idle": "2025-03-24T21:14:32.497983Z",
     "shell.execute_reply": "2025-03-24T21:14:32.496904Z"
    },
    "papermill": {
     "duration": 0.030345,
     "end_time": "2025-03-24T21:14:32.499550",
     "exception": false,
     "start_time": "2025-03-24T21:14:32.469205",
     "status": "completed"
    },
    "tags": []
   },
   "outputs": [],
   "source": [
    "df_talla = df[df[\"TALLA\"] != \"-\"]\n",
    "df_talla[\"TALLA\"] = pd.to_numeric(df_talla[\"TALLA\"], errors=\"coerce\")\n",
    "\n",
    "# Definir los límites de los grupos\n",
    "grupos = [130, 150, 170, 190]\n",
    "\n",
    "# Definir las etiquetas de los grupos\n",
    "etiquetas = [\"130-150\", \"150-170\", \"170-190\"]\n",
    "\n",
    "# Crear una nueva columna en el DataFrame que contenga las categorías de las tallas\n",
    "df_talla = pd.cut(df_talla[\"TALLA\"], bins=grupos, labels=etiquetas)  # , right=False)\n",
    "\n",
    "# Contar cuántas observaciones hay en cada categoría\n",
    "talla_agrupados = df_talla.value_counts().sort_index()\n",
    "\n",
    "print(talla_agrupados)"
   ]
  },
  {
   "cell_type": "code",
   "execution_count": null,
   "id": "1abaae2c",
   "metadata": {
    "execution": {
     "iopub.execute_input": "2025-03-24T21:14:32.531850Z",
     "iopub.status.busy": "2025-03-24T21:14:32.531464Z",
     "iopub.status.idle": "2025-03-24T21:14:32.736146Z",
     "shell.execute_reply": "2025-03-24T21:14:32.734765Z"
    },
    "papermill": {
     "duration": 0.222926,
     "end_time": "2025-03-24T21:14:32.738414",
     "exception": false,
     "start_time": "2025-03-24T21:14:32.515488",
     "status": "completed"
    },
    "tags": []
   },
   "outputs": [],
   "source": [
    "plt.hist(\n",
    "    talla_agrupados.index,\n",
    "    bins=len(talla_agrupados),\n",
    "    weights=talla_agrupados.values,\n",
    "    color=\"skyblue\",\n",
    "    edgecolor=\"black\",\n",
    ")\n",
    "\n",
    "# Etiquetas y título\n",
    "plt.xlabel(\"Talla\")\n",
    "plt.ylabel(\"Frecuencia\")\n",
    "plt.title(\"Histograma de Agrupación de Tallas\")\n",
    "\n",
    "# Mostrar el gráfico\n",
    "plt.show()"
   ]
  },
  {
   "cell_type": "markdown",
   "id": "1bcb7dad",
   "metadata": {
    "papermill": {
     "duration": 0.01618,
     "end_time": "2025-03-24T21:14:32.771938",
     "exception": false,
     "start_time": "2025-03-24T21:14:32.755758",
     "status": "completed"
    },
    "tags": []
   },
   "source": [
    "Para poder determinar una estrategia adecuada de imputacion (simple imputer o knn imputer) revisemos los valores atipicos y la escala de las caracteristicas"
   ]
  },
  {
   "cell_type": "markdown",
   "id": "746e77e9",
   "metadata": {
    "papermill": {
     "duration": 0.016379,
     "end_time": "2025-03-24T21:14:32.805425",
     "exception": false,
     "start_time": "2025-03-24T21:14:32.789046",
     "status": "completed"
    },
    "tags": []
   },
   "source": [
    "#### Analisis de Outliers de PESO y TALLA"
   ]
  },
  {
   "cell_type": "code",
   "execution_count": null,
   "id": "545cbad2",
   "metadata": {
    "execution": {
     "iopub.execute_input": "2025-03-24T21:14:32.840505Z",
     "iopub.status.busy": "2025-03-24T21:14:32.840078Z",
     "iopub.status.idle": "2025-03-24T21:14:33.404954Z",
     "shell.execute_reply": "2025-03-24T21:14:33.403690Z"
    },
    "papermill": {
     "duration": 0.584612,
     "end_time": "2025-03-24T21:14:33.407055",
     "exception": false,
     "start_time": "2025-03-24T21:14:32.822443",
     "status": "completed"
    },
    "tags": []
   },
   "outputs": [],
   "source": [
    "plt.figure(figsize=(14, 6))\n",
    "\n",
    "plt.subplot(1, 2, 1)\n",
    "sns.boxplot(data=df, x=\"PESO\")\n",
    "plt.title(\"Boxplot de la columna PESO\")\n",
    "plt.xlabel(\"PESO\")\n",
    "\n",
    "plt.subplot(1, 2, 2)\n",
    "sns.boxplot(data=df, x=\"TALLA\")\n",
    "plt.title(\"Boxplot de la columna TALLA\")\n",
    "plt.xlabel(\"TALLA\")\n",
    "plt.suptitle(\"Boxplots de PESO y TALLA\")\n",
    "plt.tight_layout()\n",
    "\n",
    "plt.show()"
   ]
  },
  {
   "cell_type": "markdown",
   "id": "bafa5193",
   "metadata": {
    "papermill": {
     "duration": 0.01616,
     "end_time": "2025-03-24T21:14:33.440756",
     "exception": false,
     "start_time": "2025-03-24T21:14:33.424596",
     "status": "completed"
    },
    "tags": []
   },
   "source": [
    "Antes de realizar imputacion tenemos que hacer tratamiento de atipicos, entendamos cuales son los atipicos."
   ]
  },
  {
   "cell_type": "code",
   "execution_count": null,
   "id": "a52d5f5a",
   "metadata": {
    "execution": {
     "iopub.execute_input": "2025-03-24T21:14:33.475369Z",
     "iopub.status.busy": "2025-03-24T21:14:33.475019Z",
     "iopub.status.idle": "2025-03-24T21:14:33.481893Z",
     "shell.execute_reply": "2025-03-24T21:14:33.480840Z"
    },
    "papermill": {
     "duration": 0.026354,
     "end_time": "2025-03-24T21:14:33.483839",
     "exception": false,
     "start_time": "2025-03-24T21:14:33.457485",
     "status": "completed"
    },
    "tags": []
   },
   "outputs": [],
   "source": [
    "# Tukey's method\n",
    "def tukeys_method(df, variable):\n",
    "    # Takes two parameters: dataframe & variable of interest as string\n",
    "    q1 = df[variable].quantile(0.25)\n",
    "    q3 = df[variable].quantile(0.75)\n",
    "    iqr = q3 - q1\n",
    "    inner_fence = 1.5 * iqr\n",
    "    outer_fence = 3 * iqr\n",
    "\n",
    "    # inner fence lower and upper end\n",
    "    inner_fence_le = q1 - inner_fence\n",
    "    inner_fence_ue = q3 + inner_fence\n",
    "\n",
    "    # outer fence lower and upper end\n",
    "    outer_fence_le = q1 - outer_fence\n",
    "    outer_fence_ue = q3 + outer_fence\n",
    "\n",
    "    outliers_prob = []\n",
    "    outliers_poss = []\n",
    "    for index, x in enumerate(df[variable]):\n",
    "        if x <= outer_fence_le or x >= outer_fence_ue:\n",
    "            outliers_prob.append(index)\n",
    "    for index, x in enumerate(df[variable]):\n",
    "        if x <= inner_fence_le or x >= inner_fence_ue:\n",
    "            outliers_poss.append(index)\n",
    "    return outliers_prob, outliers_poss"
   ]
  },
  {
   "cell_type": "code",
   "execution_count": null,
   "id": "f2fb19ac",
   "metadata": {
    "execution": {
     "iopub.execute_input": "2025-03-24T21:14:33.517907Z",
     "iopub.status.busy": "2025-03-24T21:14:33.517528Z",
     "iopub.status.idle": "2025-03-24T21:14:33.531761Z",
     "shell.execute_reply": "2025-03-24T21:14:33.530470Z"
    },
    "papermill": {
     "duration": 0.033179,
     "end_time": "2025-03-24T21:14:33.533496",
     "exception": false,
     "start_time": "2025-03-24T21:14:33.500317",
     "status": "completed"
    },
    "tags": []
   },
   "outputs": [],
   "source": [
    "probable_outliers_peso, possible_outliers_peso = tukeys_method(df, \"PESO\")\n",
    "probable_outliers_talla, possible_outliers_talla = tukeys_method(df, \"TALLA\")\n",
    "print(\n",
    "    f\"indices de outliers de PESO: {probable_outliers_peso}\\nindices de outliers de TALLA: {probable_outliers_talla}\"\n",
    ")"
   ]
  },
  {
   "cell_type": "markdown",
   "id": "b18b447e",
   "metadata": {
    "papermill": {
     "duration": 0.01601,
     "end_time": "2025-03-24T21:14:33.566673",
     "exception": false,
     "start_time": "2025-03-24T21:14:33.550663",
     "status": "completed"
    },
    "tags": []
   },
   "source": [
    "[REFERENCIA : detección y tratamiento de outliers en Python](https://towardsdatascience.com/detecting-and-treating-outliers-in-python-part-1-4ece5098b755)\n"
   ]
  },
  {
   "cell_type": "code",
   "execution_count": null,
   "id": "c16e2516",
   "metadata": {
    "execution": {
     "iopub.execute_input": "2025-03-24T21:14:33.601672Z",
     "iopub.status.busy": "2025-03-24T21:14:33.601310Z",
     "iopub.status.idle": "2025-03-24T21:14:35.426596Z",
     "shell.execute_reply": "2025-03-24T21:14:35.424779Z"
    },
    "papermill": {
     "duration": 1.84544,
     "end_time": "2025-03-24T21:14:35.428876",
     "exception": false,
     "start_time": "2025-03-24T21:14:33.583436",
     "status": "completed"
    },
    "tags": []
   },
   "outputs": [],
   "source": [
    "# Generate boxplots\n",
    "plt.figure(figsize=(14, 6))\n",
    "\n",
    "plt.subplot(1, 2, 1)\n",
    "sns.boxplot(data=df, x=\"PESO\")\n",
    "plt.title(\"Boxplot de la columna PESO\")\n",
    "plt.xlabel(\"PESO\")\n",
    "\n",
    "# Mark outliers on the PESO boxplot\n",
    "outliers_prob, outliers_poss = tukeys_method(df, \"PESO\")\n",
    "sns.swarmplot(\n",
    "    data=df.iloc[outliers_poss],\n",
    "    x=\"PESO\",\n",
    "    color=\"orange\",\n",
    "    marker=\"o\",\n",
    "    size=7,\n",
    "    label=\"Outliers Posibles\",\n",
    ")\n",
    "sns.swarmplot(\n",
    "    data=df.iloc[outliers_prob],\n",
    "    x=\"PESO\",\n",
    "    color=\"red\",\n",
    "    marker=\"o\",\n",
    "    size=7,\n",
    "    label=\"Outliers Probables\",\n",
    ")\n",
    "plt.legend()\n",
    "\n",
    "plt.subplot(1, 2, 2)\n",
    "sns.boxplot(data=df, x=\"TALLA\")\n",
    "plt.title(\"Boxplot de la columna TALLA\")\n",
    "plt.xlabel(\"TALLA\")\n",
    "\n",
    "# Mark outliers on the TALLA boxplot\n",
    "outliers_prob, outliers_poss = tukeys_method(df, \"TALLA\")\n",
    "sns.swarmplot(\n",
    "    data=df.iloc[outliers_poss],\n",
    "    x=\"TALLA\",\n",
    "    color=\"orange\",\n",
    "    marker=\"o\",\n",
    "    size=7,\n",
    "    label=\"Outliers Posibles\",\n",
    ")\n",
    "sns.swarmplot(\n",
    "    data=df.iloc[outliers_prob],\n",
    "    x=\"TALLA\",\n",
    "    color=\"red\",\n",
    "    marker=\"o\",\n",
    "    size=7,\n",
    "    label=\"Outliers Probables\",\n",
    ")\n",
    "plt.legend()\n",
    "\n",
    "plt.suptitle(\"Boxplots de PESO y TALLA\")\n",
    "plt.tight_layout()\n",
    "\n",
    "plt.show()"
   ]
  },
  {
   "cell_type": "markdown",
   "id": "aab91c9d",
   "metadata": {
    "papermill": {
     "duration": 0.01824,
     "end_time": "2025-03-24T21:14:35.467358",
     "exception": false,
     "start_time": "2025-03-24T21:14:35.449118",
     "status": "completed"
    },
    "tags": []
   },
   "source": [
    "Estos registros podrian ser candidatos para eliminacion o imputacion en las columnas de TALLA y PESO"
   ]
  },
  {
   "cell_type": "markdown",
   "id": "217c9194",
   "metadata": {
    "papermill": {
     "duration": 0.017143,
     "end_time": "2025-03-24T21:14:35.503680",
     "exception": false,
     "start_time": "2025-03-24T21:14:35.486537",
     "status": "completed"
    },
    "tags": []
   },
   "source": [
    "### Pacientes en Urgencias\n",
    "Categorica"
   ]
  },
  {
   "cell_type": "code",
   "execution_count": null,
   "id": "65f5f018",
   "metadata": {
    "execution": {
     "iopub.execute_input": "2025-03-24T21:14:35.540041Z",
     "iopub.status.busy": "2025-03-24T21:14:35.539628Z",
     "iopub.status.idle": "2025-03-24T21:14:35.546799Z",
     "shell.execute_reply": "2025-03-24T21:14:35.545478Z"
    },
    "papermill": {
     "duration": 0.027706,
     "end_time": "2025-03-24T21:14:35.548595",
     "exception": false,
     "start_time": "2025-03-24T21:14:35.520889",
     "status": "completed"
    },
    "tags": []
   },
   "outputs": [],
   "source": [
    "df.URGENCIAS.unique()"
   ]
  },
  {
   "cell_type": "code",
   "execution_count": null,
   "id": "1b8edd9a",
   "metadata": {
    "execution": {
     "iopub.execute_input": "2025-03-24T21:14:35.586614Z",
     "iopub.status.busy": "2025-03-24T21:14:35.586171Z",
     "iopub.status.idle": "2025-03-24T21:14:35.813553Z",
     "shell.execute_reply": "2025-03-24T21:14:35.812416Z"
    },
    "papermill": {
     "duration": 0.247953,
     "end_time": "2025-03-24T21:14:35.815150",
     "exception": false,
     "start_time": "2025-03-24T21:14:35.567197",
     "status": "completed"
    },
    "tags": []
   },
   "outputs": [],
   "source": [
    "filtered_df = df[df[\"URGENCIAS\"] > 0]\n",
    "sns.countplot(x=filtered_df[\"URGENCIAS\"], palette=\"tab20\")\n",
    "plt.title(\"Pacientes por urgencias\")\n",
    "plt.show()"
   ]
  },
  {
   "cell_type": "markdown",
   "id": "c6fc089c",
   "metadata": {
    "papermill": {
     "duration": 0.01853,
     "end_time": "2025-03-24T21:14:35.852180",
     "exception": false,
     "start_time": "2025-03-24T21:14:35.833650",
     "status": "completed"
    },
    "tags": []
   },
   "source": [
    "### Antecendentes\n",
    "Categoricas"
   ]
  },
  {
   "cell_type": "code",
   "execution_count": null,
   "id": "452fb328",
   "metadata": {
    "execution": {
     "iopub.execute_input": "2025-03-24T21:14:35.890394Z",
     "iopub.status.busy": "2025-03-24T21:14:35.890017Z",
     "iopub.status.idle": "2025-03-24T21:14:35.937644Z",
     "shell.execute_reply": "2025-03-24T21:14:35.936546Z"
    },
    "papermill": {
     "duration": 0.068718,
     "end_time": "2025-03-24T21:14:35.939513",
     "exception": false,
     "start_time": "2025-03-24T21:14:35.870795",
     "status": "completed"
    },
    "tags": []
   },
   "outputs": [],
   "source": [
    "cancer_mama_familiar = pd.crosstab(\n",
    "    index=df[\"CANCER_MAMA_FAMILIAR\"], columns=\"CancerMamaFamiliar\"\n",
    ")\n",
    "cancer_otro_sitio = pd.crosstab(\n",
    "    index=df[\"CANCER_OTRO_SITIO\"], columns=\"CancerOtroSitio\"\n",
    ")\n",
    "cancer_otro_sitio_familiar = pd.crosstab(\n",
    "    index=df[\"CANCER_OTRO_SITIO_FAMILIAR\"], columns=\"CancerOtroSitioFamiliar\"\n",
    ")\n",
    "cerebral_familiar = pd.crosstab(\n",
    "    index=df[\"CEREBRAL_FAMILIAR\"], columns=\"CerebralFamiliar\"\n",
    ")\n",
    "\n",
    "# Concatenar las tablas una al lado de la otra\n",
    "result = pd.concat(\n",
    "    [\n",
    "        cancer_mama_familiar,\n",
    "        cancer_otro_sitio,\n",
    "        cancer_otro_sitio_familiar,\n",
    "        cerebral_familiar,\n",
    "    ],\n",
    "    axis=1,\n",
    ")\n",
    "\n",
    "# Mostrar el resultado\n",
    "result"
   ]
  },
  {
   "cell_type": "code",
   "execution_count": null,
   "id": "8423f05d",
   "metadata": {
    "execution": {
     "iopub.execute_input": "2025-03-24T21:14:35.978973Z",
     "iopub.status.busy": "2025-03-24T21:14:35.978587Z",
     "iopub.status.idle": "2025-03-24T21:14:36.329303Z",
     "shell.execute_reply": "2025-03-24T21:14:36.328074Z"
    },
    "papermill": {
     "duration": 0.372506,
     "end_time": "2025-03-24T21:14:36.331325",
     "exception": false,
     "start_time": "2025-03-24T21:14:35.958819",
     "status": "completed"
    },
    "tags": []
   },
   "outputs": [],
   "source": [
    "df_cancer = df[\n",
    "    [\n",
    "        \"CANCER_MAMA_FAMILIAR\",\n",
    "        \"CANCER_OTRO_SITIO\",\n",
    "        \"CANCER_OTRO_SITIO_FAMILIAR\",\n",
    "        \"CEREBRAL_FAMILIAR\",\n",
    "    ]\n",
    "]\n",
    "print(df_cancer.shape)\n",
    "porcentaje = df_cancer.apply(lambda x: x.value_counts(normalize=True) * 100)\n",
    "ax = porcentaje.plot(kind=\"bar\")\n",
    "for p in ax.patches:\n",
    "    ax.annotate(\n",
    "        f\"{p.get_height():.0f}%\",\n",
    "        (p.get_x() + p.get_width() / 2.0, p.get_height()),\n",
    "        ha=\"center\",\n",
    "        va=\"center\",\n",
    "        fontsize=9,\n",
    "        color=\"black\",\n",
    "        xytext=(0, 5),\n",
    "        textcoords=\"offset points\",\n",
    "    )\n",
    "\n",
    "plt.xlabel(\"Antecedentes\")\n",
    "plt.ylabel(\"%\")\n",
    "plt.title(\"% de Antecedentes\")\n",
    "\n",
    "plt.show()"
   ]
  },
  {
   "cell_type": "markdown",
   "id": "28acfc27",
   "metadata": {
    "papermill": {
     "duration": 0.019609,
     "end_time": "2025-03-24T21:14:36.370339",
     "exception": false,
     "start_time": "2025-03-24T21:14:36.350730",
     "status": "completed"
    },
    "tags": []
   },
   "source": [
    "### Presion Arterial\n",
    "Numerica "
   ]
  },
  {
   "cell_type": "code",
   "execution_count": null,
   "id": "8e801275",
   "metadata": {
    "execution": {
     "iopub.execute_input": "2025-03-24T21:14:36.468046Z",
     "iopub.status.busy": "2025-03-24T21:14:36.467625Z",
     "iopub.status.idle": "2025-03-24T21:14:36.475473Z",
     "shell.execute_reply": "2025-03-24T21:14:36.474229Z"
    },
    "papermill": {
     "duration": 0.03022,
     "end_time": "2025-03-24T21:14:36.477598",
     "exception": false,
     "start_time": "2025-03-24T21:14:36.447378",
     "status": "completed"
    },
    "tags": []
   },
   "outputs": [],
   "source": [
    "# Presión Sistolica y diastolica (Contrae y relaja)\n",
    "df.TSISTOLICA.unique()\n",
    "# df.TDIASTOLICA.unique()"
   ]
  },
  {
   "cell_type": "code",
   "execution_count": null,
   "id": "28c0ffd6",
   "metadata": {
    "execution": {
     "iopub.execute_input": "2025-03-24T21:14:36.520168Z",
     "iopub.status.busy": "2025-03-24T21:14:36.519762Z",
     "iopub.status.idle": "2025-03-24T21:14:36.532231Z",
     "shell.execute_reply": "2025-03-24T21:14:36.530978Z"
    },
    "papermill": {
     "duration": 0.036091,
     "end_time": "2025-03-24T21:14:36.534007",
     "exception": false,
     "start_time": "2025-03-24T21:14:36.497916",
     "status": "completed"
    },
    "tags": []
   },
   "outputs": [],
   "source": [
    "# print(df.TALLA.unique())}\n",
    "df_sistolica = df\n",
    "df_sistolica[\"TSISTOLICA\"] = pd.to_numeric(df_sistolica[\"TSISTOLICA\"], errors=\"coerce\")\n",
    "\n",
    "total_observaciones = df_sistolica.shape[0]\n",
    "distribucion_tS = df_sistolica[\"TSISTOLICA\"].value_counts(dropna=False).reset_index()\n",
    "distribucion_tS.columns = [\"Valor\", \"Conteo\"]\n",
    "distribucion_tS[\"Porcentaje\"] = distribucion_tS[\"Conteo\"] / total_observaciones\n",
    "na_values_tS = distribucion_tS[distribucion_tS[\"Valor\"].isna()]\n",
    "print(f\"Valores Nulos de TSISTOLICA:\\n{na_values_tS}\")"
   ]
  },
  {
   "cell_type": "code",
   "execution_count": null,
   "id": "82b7b417",
   "metadata": {
    "execution": {
     "iopub.execute_input": "2025-03-24T21:14:36.575556Z",
     "iopub.status.busy": "2025-03-24T21:14:36.575200Z",
     "iopub.status.idle": "2025-03-24T21:14:36.950415Z",
     "shell.execute_reply": "2025-03-24T21:14:36.949363Z"
    },
    "papermill": {
     "duration": 0.398311,
     "end_time": "2025-03-24T21:14:36.952676",
     "exception": false,
     "start_time": "2025-03-24T21:14:36.554365",
     "status": "completed"
    },
    "tags": []
   },
   "outputs": [],
   "source": [
    "# Definir los límites de los grupos\n",
    "grupos = [\n",
    "    80,\n",
    "    85,\n",
    "    90,\n",
    "    95,\n",
    "    100,\n",
    "    105,\n",
    "    110,\n",
    "    115,\n",
    "    120,\n",
    "    125,\n",
    "    130,\n",
    "    135,\n",
    "    140,\n",
    "    145,\n",
    "    150,\n",
    "    155,\n",
    "    160,\n",
    "    165,\n",
    "    170,\n",
    "    175,\n",
    "    180,\n",
    "    185,\n",
    "    190,\n",
    "    195,\n",
    "    200,\n",
    "]\n",
    "\n",
    "# Definir las etiquetas de los grupos\n",
    "etiquetas = [\n",
    "    \"80-85\",\n",
    "    \"85-90\",\n",
    "    \"90-95\",\n",
    "    \"95-100\",\n",
    "    \"100-105\",\n",
    "    \"105-110\",\n",
    "    \"110-115\",\n",
    "    \"115-120\",\n",
    "    \"120-125\",\n",
    "    \"125-130\",\n",
    "    \"130-135\",\n",
    "    \"135-140\",\n",
    "    \"140-145\",\n",
    "    \"145-150\",\n",
    "    \"150-155\",\n",
    "    \"155-160\",\n",
    "    \"160-165\",\n",
    "    \"165-170\",\n",
    "    \"170-175\",\n",
    "    \"175-180\",\n",
    "    \"180-185\",\n",
    "    \"185-190\",\n",
    "    \"190-195\",\n",
    "    \"195-200\",\n",
    "]\n",
    "\n",
    "# Crear una nueva columna en el DataFrame que contenga las categorías de las tallas\n",
    "df_sistolica[\"TSISTOLICA_CATEGORIA\"] = pd.cut(\n",
    "    df_sistolica[\"TSISTOLICA\"], bins=grupos, labels=etiquetas\n",
    ")\n",
    "\n",
    "# Contar cuántas observaciones hay en cada categoría\n",
    "tS_agrupados = df_sistolica[\"TSISTOLICA_CATEGORIA\"].value_counts().sort_index()\n",
    "\n",
    "# Configurar el tamaño de la figura para que sea más alargada\n",
    "plt.figure(figsize=(12, 6))\n",
    "\n",
    "# Generar el histograma\n",
    "plt.hist(x=df_sistolica[\"TSISTOLICA\"], bins=grupos, color=\"skyblue\", edgecolor=\"black\")\n",
    "\n",
    "# Rotar las etiquetas del eje x para que sean legibles\n",
    "plt.xticks(rotation=45, ha=\"right\")\n",
    "\n",
    "# Etiquetas y título\n",
    "plt.xlabel(\"Talla\")\n",
    "plt.ylabel(\"Frecuencia\")\n",
    "plt.title(\"Histograma de Agrupación de TSISTOLICA\")\n",
    "\n",
    "# Mostrar el gráfico\n",
    "plt.show()"
   ]
  },
  {
   "cell_type": "code",
   "execution_count": null,
   "id": "b683d177",
   "metadata": {
    "execution": {
     "iopub.execute_input": "2025-03-24T21:14:37.009881Z",
     "iopub.status.busy": "2025-03-24T21:14:37.009369Z",
     "iopub.status.idle": "2025-03-24T21:14:37.018196Z",
     "shell.execute_reply": "2025-03-24T21:14:37.016995Z"
    },
    "papermill": {
     "duration": 0.039853,
     "end_time": "2025-03-24T21:14:37.020049",
     "exception": false,
     "start_time": "2025-03-24T21:14:36.980196",
     "status": "completed"
    },
    "tags": []
   },
   "outputs": [],
   "source": [
    "df.TDIASTOLICA.unique()"
   ]
  },
  {
   "cell_type": "code",
   "execution_count": null,
   "id": "7981fa30",
   "metadata": {
    "execution": {
     "iopub.execute_input": "2025-03-24T21:14:37.064114Z",
     "iopub.status.busy": "2025-03-24T21:14:37.063633Z",
     "iopub.status.idle": "2025-03-24T21:14:37.078701Z",
     "shell.execute_reply": "2025-03-24T21:14:37.077539Z"
    },
    "papermill": {
     "duration": 0.039638,
     "end_time": "2025-03-24T21:14:37.080711",
     "exception": false,
     "start_time": "2025-03-24T21:14:37.041073",
     "status": "completed"
    },
    "tags": []
   },
   "outputs": [],
   "source": [
    "df_tdiastolica = df\n",
    "df_tdiastolica[\"TDIASTOLICA\"] = pd.to_numeric(\n",
    "    df_tdiastolica[\"TDIASTOLICA\"], errors=\"coerce\"\n",
    ")\n",
    "\n",
    "total_observaciones = df_tdiastolica.shape[0]\n",
    "distribucion_tD = df_tdiastolica[\"TDIASTOLICA\"].value_counts(dropna=False).reset_index()\n",
    "distribucion_tD.columns = [\"Valor\", \"Conteo\"]\n",
    "distribucion_tD[\"Porcentaje\"] = distribucion_tD[\"Conteo\"] / total_observaciones\n",
    "na_values_tD = distribucion_tD[distribucion_tD[\"Valor\"].isna()]\n",
    "print(f\"Valores Nulos de TDIASTOLICA:\\n{na_values_tD}\")"
   ]
  },
  {
   "cell_type": "code",
   "execution_count": null,
   "id": "ee340923",
   "metadata": {
    "execution": {
     "iopub.execute_input": "2025-03-24T21:14:37.128387Z",
     "iopub.status.busy": "2025-03-24T21:14:37.127897Z",
     "iopub.status.idle": "2025-03-24T21:14:37.529227Z",
     "shell.execute_reply": "2025-03-24T21:14:37.527918Z"
    },
    "papermill": {
     "duration": 0.426465,
     "end_time": "2025-03-24T21:14:37.531263",
     "exception": false,
     "start_time": "2025-03-24T21:14:37.104798",
     "status": "completed"
    },
    "tags": []
   },
   "outputs": [],
   "source": [
    "# Definir los límites de los grupos\n",
    "grupos = [40, 45, 50, 55, 60, 65, 70, 75, 80, 85, 90, 95, 100, 105, 110]\n",
    "\n",
    "# Definir las etiquetas de los grupos\n",
    "etiquetas = [\n",
    "    \"40-45\",\n",
    "    \"45-50\",\n",
    "    \"50-55\",\n",
    "    \"55-60\",\n",
    "    \"60-65\",\n",
    "    \"65-70\",\n",
    "    \"70-75\",\n",
    "    \"75-80\",\n",
    "    \"80-85\",\n",
    "    \"85-90\",\n",
    "    \"90-95\",\n",
    "    \"95-100\",\n",
    "    \"100-105\",\n",
    "    \"105-110\",\n",
    "]\n",
    "\n",
    "# Crear una nueva columna en el DataFrame que contenga las categorías de las tallas\n",
    "df_tdiastolica[\"TDIASTOLICA_CATEGORIA\"] = pd.cut(\n",
    "    df_tdiastolica[\"TDIASTOLICA\"], bins=grupos, labels=etiquetas\n",
    ")  # , right=False)\n",
    "\n",
    "# Contar cuántas observaciones hay en cada categoría\n",
    "tD_agrupados = df_tdiastolica[\"TDIASTOLICA_CATEGORIA\"].value_counts().sort_index()\n",
    "\n",
    "print(tD_agrupados)\n",
    "# Configurar el tamaño de la figura para que sea más alargada\n",
    "plt.figure(figsize=(12, 6))\n",
    "# Generar el histograma\n",
    "plt.hist(x=df_sistolica[\"TDIASTOLICA\"], bins=grupos, color=\"skyblue\", edgecolor=\"black\")\n",
    "# Rotar las etiquetas del eje x para que sean legibles\n",
    "plt.xticks(rotation=45, ha=\"right\")\n",
    "\n",
    "# Etiquetas y título\n",
    "plt.xlabel(\"Talla\")\n",
    "plt.ylabel(\"Frecuencia\")\n",
    "plt.title(\"Histograma de Agrupación de TDIASTOLICA\")\n",
    "\n",
    "# Mostrar el gráfico\n",
    "plt.show()"
   ]
  },
  {
   "cell_type": "code",
   "execution_count": null,
   "id": "7074ba9d",
   "metadata": {
    "execution": {
     "iopub.execute_input": "2025-03-24T21:14:37.577891Z",
     "iopub.status.busy": "2025-03-24T21:14:37.577381Z",
     "iopub.status.idle": "2025-03-24T21:14:37.589233Z",
     "shell.execute_reply": "2025-03-24T21:14:37.588079Z"
    },
    "papermill": {
     "duration": 0.036837,
     "end_time": "2025-03-24T21:14:37.591117",
     "exception": false,
     "start_time": "2025-03-24T21:14:37.554280",
     "status": "completed"
    },
    "tags": []
   },
   "outputs": [],
   "source": [
    "print(\n",
    "    f\"Valores Nulos de TDIASTOLICA:\\n{na_values_tD}\\nValores Nulos de TSISTOLICA:\\n{na_values_tS}\"\n",
    ")"
   ]
  },
  {
   "cell_type": "code",
   "execution_count": null,
   "id": "4e814c47",
   "metadata": {
    "execution": {
     "iopub.execute_input": "2025-03-24T21:14:37.636434Z",
     "iopub.status.busy": "2025-03-24T21:14:37.636079Z",
     "iopub.status.idle": "2025-03-24T21:14:39.568901Z",
     "shell.execute_reply": "2025-03-24T21:14:39.567741Z"
    },
    "papermill": {
     "duration": 1.958555,
     "end_time": "2025-03-24T21:14:39.571015",
     "exception": false,
     "start_time": "2025-03-24T21:14:37.612460",
     "status": "completed"
    },
    "tags": []
   },
   "outputs": [],
   "source": [
    "# Generate boxplots\n",
    "plt.figure(figsize=(14, 6))\n",
    "\n",
    "plt.subplot(1, 2, 1)\n",
    "sns.boxplot(data=df, x=\"TDIASTOLICA\")\n",
    "plt.title(\"Boxplot de la columna TDIASTOLICA\")\n",
    "plt.xlabel(\"TDIASTOLICA\")\n",
    "\n",
    "# Mark outliers on the PESO boxplot\n",
    "outliers_prob, outliers_poss = tukeys_method(df, \"TDIASTOLICA\")\n",
    "sns.swarmplot(\n",
    "    data=df.iloc[outliers_poss],\n",
    "    x=\"TDIASTOLICA\",\n",
    "    color=\"orange\",\n",
    "    marker=\"o\",\n",
    "    size=7,\n",
    "    label=\"Outliers Posibles\",\n",
    ")\n",
    "sns.swarmplot(\n",
    "    data=df.iloc[outliers_prob],\n",
    "    x=\"TDIASTOLICA\",\n",
    "    color=\"red\",\n",
    "    marker=\"o\",\n",
    "    size=7,\n",
    "    label=\"Outliers Probables\",\n",
    ")\n",
    "plt.legend()\n",
    "\n",
    "plt.subplot(1, 2, 2)\n",
    "sns.boxplot(data=df, x=\"TSISTOLICA\")\n",
    "plt.title(\"Boxplot de la columna TSISTOLICA\")\n",
    "plt.xlabel(\"TSISTOLICA\")\n",
    "\n",
    "# Mark outliers on the TALLA boxplot\n",
    "outliers_prob, outliers_poss = tukeys_method(df, \"TSISTOLICA\")\n",
    "sns.swarmplot(\n",
    "    data=df.iloc[outliers_poss],\n",
    "    x=\"TSISTOLICA\",\n",
    "    color=\"orange\",\n",
    "    marker=\"o\",\n",
    "    size=7,\n",
    "    label=\"Outliers Posibles\",\n",
    ")\n",
    "sns.swarmplot(\n",
    "    data=df.iloc[outliers_prob],\n",
    "    x=\"TSISTOLICA\",\n",
    "    color=\"red\",\n",
    "    marker=\"o\",\n",
    "    size=7,\n",
    "    label=\"Outliers Probables\",\n",
    ")\n",
    "plt.legend()\n",
    "\n",
    "plt.suptitle(\"Boxplots de TDIASTOLICA y TSISTOLICA\")\n",
    "plt.tight_layout()\n",
    "\n",
    "plt.show()"
   ]
  },
  {
   "cell_type": "markdown",
   "id": "682aabd9",
   "metadata": {
    "papermill": {
     "duration": 0.024023,
     "end_time": "2025-03-24T21:14:39.618550",
     "exception": false,
     "start_time": "2025-03-24T21:14:39.594527",
     "status": "completed"
    },
    "tags": []
   },
   "source": [
    "### Riesgos\n",
    "categorica"
   ]
  },
  {
   "cell_type": "code",
   "execution_count": null,
   "id": "0990b607",
   "metadata": {
    "execution": {
     "iopub.execute_input": "2025-03-24T21:14:39.667066Z",
     "iopub.status.busy": "2025-03-24T21:14:39.666645Z",
     "iopub.status.idle": "2025-03-24T21:14:39.994033Z",
     "shell.execute_reply": "2025-03-24T21:14:39.992836Z"
    },
    "papermill": {
     "duration": 0.353424,
     "end_time": "2025-03-24T21:14:39.996100",
     "exception": false,
     "start_time": "2025-03-24T21:14:39.642676",
     "status": "completed"
    },
    "tags": []
   },
   "outputs": [],
   "source": [
    "riesgos_conteo = df.RIESGOS.value_counts()\n",
    "# Crear el gráfico de barras\n",
    "plt.figure(figsize=(10, 6))\n",
    "sns.countplot(data=df, x=\"RIESGOS\", palette=\"tab20\")\n",
    "\n",
    "# Añadir etiquetas y título\n",
    "plt.xlabel(\"Riesgos\")\n",
    "plt.ylabel(\"Frecuencia\")\n",
    "plt.title(\"Distribución de Riesgos\")\n",
    "\n",
    "# Mostrar el gráfico\n",
    "plt.show()"
   ]
  },
  {
   "cell_type": "code",
   "execution_count": null,
   "id": "967b8cdc",
   "metadata": {
    "execution": {
     "iopub.execute_input": "2025-03-24T21:14:40.045534Z",
     "iopub.status.busy": "2025-03-24T21:14:40.045163Z",
     "iopub.status.idle": "2025-03-24T21:14:40.049538Z",
     "shell.execute_reply": "2025-03-24T21:14:40.048190Z"
    },
    "papermill": {
     "duration": 0.03157,
     "end_time": "2025-03-24T21:14:40.051591",
     "exception": false,
     "start_time": "2025-03-24T21:14:40.020021",
     "status": "completed"
    },
    "tags": []
   },
   "outputs": [],
   "source": [
    "# con esto podemos ver que\n",
    "# tenemos mayor cantidad de pacientes con 1 riesgo de cancer"
   ]
  },
  {
   "cell_type": "markdown",
   "id": "3e4043a3",
   "metadata": {
    "papermill": {
     "duration": 0.024857,
     "end_time": "2025-03-24T21:14:40.101491",
     "exception": false,
     "start_time": "2025-03-24T21:14:40.076634",
     "status": "completed"
    },
    "tags": []
   },
   "source": [
    "### Edad de pacientes"
   ]
  },
  {
   "cell_type": "code",
   "execution_count": null,
   "id": "bc3097be",
   "metadata": {
    "execution": {
     "iopub.execute_input": "2025-03-24T21:14:40.152172Z",
     "iopub.status.busy": "2025-03-24T21:14:40.151777Z",
     "iopub.status.idle": "2025-03-24T21:14:40.159326Z",
     "shell.execute_reply": "2025-03-24T21:14:40.158206Z"
    },
    "papermill": {
     "duration": 0.034528,
     "end_time": "2025-03-24T21:14:40.161138",
     "exception": false,
     "start_time": "2025-03-24T21:14:40.126610",
     "status": "completed"
    },
    "tags": []
   },
   "outputs": [],
   "source": [
    "from datetime import datetime\n",
    "\n",
    "today = datetime.now()\n",
    "df[\"Edad\"] = today.year - df[\"FECHA_NACIMIENTO\"].dt.year"
   ]
  },
  {
   "cell_type": "code",
   "execution_count": null,
   "id": "603cf3ae",
   "metadata": {
    "execution": {
     "iopub.execute_input": "2025-03-24T21:14:40.213178Z",
     "iopub.status.busy": "2025-03-24T21:14:40.212771Z",
     "iopub.status.idle": "2025-03-24T21:14:40.485153Z",
     "shell.execute_reply": "2025-03-24T21:14:40.483897Z"
    },
    "papermill": {
     "duration": 0.2994,
     "end_time": "2025-03-24T21:14:40.487010",
     "exception": false,
     "start_time": "2025-03-24T21:14:40.187610",
     "status": "completed"
    },
    "tags": []
   },
   "outputs": [],
   "source": [
    "# Graficar un histograma de edades de las mujeres\n",
    "plt.hist(df[\"Edad\"], bins=10, color=\"skyblue\", edgecolor=\"black\", alpha=0.7)\n",
    "plt.xlabel(\"Edad\")\n",
    "plt.ylabel(\"Frecuencia\")\n",
    "plt.title(\"Histograma de Edades de Pacientes\")\n",
    "plt.grid(True)\n",
    "plt.show()"
   ]
  },
  {
   "cell_type": "markdown",
   "id": "ad40387c",
   "metadata": {
    "papermill": {
     "duration": 0.025146,
     "end_time": "2025-03-24T21:14:40.537206",
     "exception": false,
     "start_time": "2025-03-24T21:14:40.512060",
     "status": "completed"
    },
    "tags": []
   },
   "source": [
    "### Complicaciones"
   ]
  },
  {
   "cell_type": "code",
   "execution_count": null,
   "id": "b8ea2f8e",
   "metadata": {
    "execution": {
     "iopub.execute_input": "2025-03-24T21:14:40.592096Z",
     "iopub.status.busy": "2025-03-24T21:14:40.591646Z",
     "iopub.status.idle": "2025-03-24T21:14:41.245913Z",
     "shell.execute_reply": "2025-03-24T21:14:41.243389Z"
    },
    "papermill": {
     "duration": 0.6839,
     "end_time": "2025-03-24T21:14:41.248216",
     "exception": false,
     "start_time": "2025-03-24T21:14:40.564316",
     "status": "completed"
    },
    "tags": []
   },
   "outputs": [],
   "source": [
    "# Contar el número de consultas por complicaciones por cada día\n",
    "consulta_por_dia = df[\"Fecha_cero\"].value_counts().sort_index()\n",
    "\n",
    "# Graficar un diagrama de líneas de la distribución de fechas de consulta por complicaciones\n",
    "plt.plot(consulta_por_dia.index, consulta_por_dia.values, marker=\"*\", color=\"blue\")\n",
    "plt.xlabel(\"Fecha de Consulta por Complicaciones\")\n",
    "plt.ylabel(\"Número de Consultas\")\n",
    "plt.title(\"Distribución de Consultas por Complicaciones a lo largo del Tiempo\")\n",
    "plt.xticks(rotation=45)\n",
    "plt.grid(True)\n",
    "plt.show()"
   ]
  },
  {
   "cell_type": "markdown",
   "id": "f5a398a5",
   "metadata": {
    "papermill": {
     "duration": 0.026626,
     "end_time": "2025-03-24T21:14:41.305511",
     "exception": false,
     "start_time": "2025-03-24T21:14:41.278885",
     "status": "completed"
    },
    "tags": []
   },
   "source": [
    "## Analisis de Variable Objetivo\n",
    "### Objetivo \n",
    "Caterogica\n"
   ]
  },
  {
   "cell_type": "code",
   "execution_count": null,
   "id": "c5c2cf24",
   "metadata": {
    "execution": {
     "iopub.execute_input": "2025-03-24T21:14:41.361651Z",
     "iopub.status.busy": "2025-03-24T21:14:41.361286Z",
     "iopub.status.idle": "2025-03-24T21:14:41.474740Z",
     "shell.execute_reply": "2025-03-24T21:14:41.473525Z"
    },
    "papermill": {
     "duration": 0.144629,
     "end_time": "2025-03-24T21:14:41.476785",
     "exception": false,
     "start_time": "2025-03-24T21:14:41.332156",
     "status": "completed"
    },
    "tags": []
   },
   "outputs": [],
   "source": [
    "df.Target.value_counts()\n",
    "target_counts = df[\"Target\"].value_counts()\n",
    "print(target_counts)\n",
    "porcentajes = target_counts / len(df) * 100\n",
    "plt.figure(figsize=(5, 5))\n",
    "plt.pie(porcentajes, labels=porcentajes.index, autopct=\"%1.1f%%\")\n",
    "plt.title(\"Target\")\n",
    "plt.show()"
   ]
  },
  {
   "cell_type": "markdown",
   "id": "5e5347dc",
   "metadata": {
    "papermill": {
     "duration": 0.02663,
     "end_time": "2025-03-24T21:14:41.532226",
     "exception": false,
     "start_time": "2025-03-24T21:14:41.505596",
     "status": "completed"
    },
    "tags": []
   },
   "source": [
    "## Valores Nulos "
   ]
  },
  {
   "cell_type": "code",
   "execution_count": null,
   "id": "a810941b",
   "metadata": {
    "execution": {
     "iopub.execute_input": "2025-03-24T21:14:41.590622Z",
     "iopub.status.busy": "2025-03-24T21:14:41.590080Z",
     "iopub.status.idle": "2025-03-24T21:14:42.515119Z",
     "shell.execute_reply": "2025-03-24T21:14:42.513808Z"
    },
    "papermill": {
     "duration": 0.955609,
     "end_time": "2025-03-24T21:14:42.517016",
     "exception": false,
     "start_time": "2025-03-24T21:14:41.561407",
     "status": "completed"
    },
    "tags": []
   },
   "outputs": [],
   "source": [
    "# Mapa de calor de datos para revisar nulos\n",
    "plt.figure(figsize=(10, 6))\n",
    "sns.heatmap(df.isnull(), yticklabels=False, cbar=False, cmap=\"Blues\")\n",
    "plt.show()"
   ]
  },
  {
   "cell_type": "code",
   "execution_count": null,
   "id": "3af8c4cd",
   "metadata": {
    "execution": {
     "iopub.execute_input": "2025-03-24T21:14:42.578352Z",
     "iopub.status.busy": "2025-03-24T21:14:42.577954Z",
     "iopub.status.idle": "2025-03-24T21:14:42.627621Z",
     "shell.execute_reply": "2025-03-24T21:14:42.626183Z"
    },
    "papermill": {
     "duration": 0.082726,
     "end_time": "2025-03-24T21:14:42.629483",
     "exception": false,
     "start_time": "2025-03-24T21:14:42.546757",
     "status": "completed"
    },
    "tags": []
   },
   "outputs": [],
   "source": [
    "porcetaje_de_nulidad = df.isnull().apply(lambda s: s.value_counts(True)).T\n",
    "\n",
    "porcetaje_de_nulidad.columns = [\"not_null\", \"null\"]\n",
    "variables_muy_nulas = porcetaje_de_nulidad.query(\"null > 0.7\").index\n",
    "nnulos = porcetaje_de_nulidad.dropna(subset=[\"null\"])\n",
    "nnulos"
   ]
  },
  {
   "cell_type": "code",
   "execution_count": null,
   "id": "63088a05",
   "metadata": {
    "execution": {
     "iopub.execute_input": "2025-03-24T21:14:42.690914Z",
     "iopub.status.busy": "2025-03-24T21:14:42.690490Z",
     "iopub.status.idle": "2025-03-24T21:14:42.696610Z",
     "shell.execute_reply": "2025-03-24T21:14:42.695538Z"
    },
    "papermill": {
     "duration": 0.03863,
     "end_time": "2025-03-24T21:14:42.698757",
     "exception": false,
     "start_time": "2025-03-24T21:14:42.660127",
     "status": "completed"
    },
    "tags": []
   },
   "outputs": [],
   "source": [
    "variables_muy_nulas"
   ]
  },
  {
   "cell_type": "markdown",
   "id": "cfc4c986",
   "metadata": {
    "papermill": {
     "duration": 0.031458,
     "end_time": "2025-03-24T21:14:42.761134",
     "exception": false,
     "start_time": "2025-03-24T21:14:42.729676",
     "status": "completed"
    },
    "tags": []
   },
   "source": [
    "## Histograma Resumen"
   ]
  },
  {
   "cell_type": "code",
   "execution_count": null,
   "id": "aa3a917f",
   "metadata": {
    "execution": {
     "iopub.execute_input": "2025-03-24T21:14:42.822163Z",
     "iopub.status.busy": "2025-03-24T21:14:42.821773Z",
     "iopub.status.idle": "2025-03-24T21:14:53.320028Z",
     "shell.execute_reply": "2025-03-24T21:14:53.318742Z"
    },
    "papermill": {
     "duration": 10.533951,
     "end_time": "2025-03-24T21:14:53.325056",
     "exception": false,
     "start_time": "2025-03-24T21:14:42.791105",
     "status": "completed"
    },
    "tags": []
   },
   "outputs": [],
   "source": [
    "df.hist(bins=30, figsize=(20, 20), color=\"b\")"
   ]
  },
  {
   "cell_type": "markdown",
   "id": "87d29b83",
   "metadata": {
    "papermill": {
     "duration": 0.03378,
     "end_time": "2025-03-24T21:14:53.392946",
     "exception": false,
     "start_time": "2025-03-24T21:14:53.359166",
     "status": "completed"
    },
    "tags": []
   },
   "source": [
    "## Matriz de Correlacion"
   ]
  },
  {
   "cell_type": "code",
   "execution_count": null,
   "id": "451cad4c",
   "metadata": {
    "execution": {
     "iopub.execute_input": "2025-03-24T21:14:53.465195Z",
     "iopub.status.busy": "2025-03-24T21:14:53.464775Z",
     "iopub.status.idle": "2025-03-24T21:14:55.967215Z",
     "shell.execute_reply": "2025-03-24T21:14:55.966044Z"
    },
    "papermill": {
     "duration": 2.550312,
     "end_time": "2025-03-24T21:14:55.979446",
     "exception": false,
     "start_time": "2025-03-24T21:14:53.429134",
     "status": "completed"
    },
    "tags": []
   },
   "outputs": [],
   "source": [
    "# Imputar los valores '-'\n",
    "df.replace(\"-\", np.nan, inplace=True)\n",
    "\n",
    "# Convertir las columnas numéricas a tipo de datos numéricos\n",
    "numeric_columns = df.select_dtypes(include=[np.number]).columns\n",
    "df[numeric_columns] = df[numeric_columns].astype(float)\n",
    "\n",
    "# Filtrar solo los datos numéricos\n",
    "numeric_df = df[numeric_columns]\n",
    "\n",
    "# Calcular la matriz de correlación\n",
    "correlation_matrix = numeric_df.corr()\n",
    "# Visualizar la matriz de correlación como un mapa de calor\n",
    "plt.figure(figsize=(25, 8))\n",
    "sns.heatmap(correlation_matrix, annot=True, cmap=\"coolwarm\", fmt=\".2f\", linewidths=0.2)\n",
    "plt.title(\"Matriz de Correlación\")\n",
    "plt.show()"
   ]
  },
  {
   "cell_type": "markdown",
   "id": "16604c57",
   "metadata": {
    "papermill": {
     "duration": 0.049251,
     "end_time": "2025-03-24T21:14:56.079071",
     "exception": false,
     "start_time": "2025-03-24T21:14:56.029820",
     "status": "completed"
    },
    "tags": []
   },
   "source": [
    "## Baseline"
   ]
  },
  {
   "cell_type": "code",
   "execution_count": null,
   "id": "56adc108",
   "metadata": {
    "execution": {
     "iopub.execute_input": "2025-03-24T21:14:56.188377Z",
     "iopub.status.busy": "2025-03-24T21:14:56.187981Z",
     "iopub.status.idle": "2025-03-24T21:14:56.196705Z",
     "shell.execute_reply": "2025-03-24T21:14:56.195440Z"
    },
    "papermill": {
     "duration": 0.062328,
     "end_time": "2025-03-24T21:14:56.198713",
     "exception": false,
     "start_time": "2025-03-24T21:14:56.136385",
     "status": "completed"
    },
    "tags": []
   },
   "outputs": [],
   "source": [
    "df.Target.value_counts()"
   ]
  },
  {
   "cell_type": "code",
   "execution_count": null,
   "id": "caaeb7cc",
   "metadata": {
    "execution": {
     "iopub.execute_input": "2025-03-24T21:14:56.298062Z",
     "iopub.status.busy": "2025-03-24T21:14:56.297675Z",
     "iopub.status.idle": "2025-03-24T21:14:56.304241Z",
     "shell.execute_reply": "2025-03-24T21:14:56.302991Z"
    },
    "papermill": {
     "duration": 0.058575,
     "end_time": "2025-03-24T21:14:56.306224",
     "exception": false,
     "start_time": "2025-03-24T21:14:56.247649",
     "status": "completed"
    },
    "tags": []
   },
   "outputs": [],
   "source": [
    "# antes de iniciar con la preparacion de datos, revisemos el baseline\n",
    "porcent = df[\"Target\"][df[\"Target\"] == 0.0].count() / df.Target.shape[0] * 100\n",
    "print(f\"{round(porcent,2)} %\")"
   ]
  },
  {
   "cell_type": "code",
   "execution_count": null,
   "id": "257b8e9b",
   "metadata": {
    "execution": {
     "iopub.execute_input": "2025-03-24T21:14:56.404103Z",
     "iopub.status.busy": "2025-03-24T21:14:56.403734Z",
     "iopub.status.idle": "2025-03-24T21:14:56.412285Z",
     "shell.execute_reply": "2025-03-24T21:14:56.411182Z"
    },
    "papermill": {
     "duration": 0.059868,
     "end_time": "2025-03-24T21:14:56.414142",
     "exception": false,
     "start_time": "2025-03-24T21:14:56.354274",
     "status": "completed"
    },
    "tags": []
   },
   "outputs": [],
   "source": [
    "# Ratificamos los cambios que debemos realizar con respecto a las características\n",
    "# normalized-losses debería ser númerico y no categórico\n",
    "# number-of-doors debería ser numérico\n",
    "# num-of-cylinders debería ser numérico\n",
    "# bore (diámetro del motor) debería ser numérico\n",
    "# stroke debe ser numérico\n",
    "# horse-power debe ser numérico\n",
    "# peak-rpm debe ser numérico\n",
    "# price debe ser numérico\n",
    "\n",
    "# GENERO                                debe ser categorica\n",
    "# ESTADO_CIVIL                          debe ser categorica\n",
    "# CODIGO_SEDE                           debe ser categorica\n",
    "# MULTI_CANCER                          debe ser categorica\n",
    "# CESION                                debe ser categorica\n",
    "# RIESGOS                               debe ser categorica\n",
    "# CANCER_MAMA_FAMILIAR                  debe ser categorica\n",
    "# CANCER_OTRO_SITIO                     debe ser categorica\n",
    "# CANCER_OTRO_SITIO_FAMILIAR            debe ser categorica\n",
    "# CEREBRAL_FAMILIAR                     debe ser categorica\n",
    "# Fecha_cero                            ELIMINAR (por \"negocio\")\n",
    "# atencion_nutricion                    debe ser categorica\n",
    "\n",
    "# df.select_dtypes(exclude=['float']).columns\n",
    "df.dtypes"
   ]
  },
  {
   "cell_type": "code",
   "execution_count": null,
   "id": "7e74733d",
   "metadata": {
    "execution": {
     "iopub.execute_input": "2025-03-24T21:14:56.513460Z",
     "iopub.status.busy": "2025-03-24T21:14:56.513075Z",
     "iopub.status.idle": "2025-03-24T21:14:56.562049Z",
     "shell.execute_reply": "2025-03-24T21:14:56.560765Z"
    },
    "papermill": {
     "duration": 0.100519,
     "end_time": "2025-03-24T21:14:56.564134",
     "exception": false,
     "start_time": "2025-03-24T21:14:56.463615",
     "status": "completed"
    },
    "tags": []
   },
   "outputs": [],
   "source": [
    "for var in df.select_dtypes(include=[\"object\"]).columns:\n",
    "    cantidad = df[df[var] == \"-\"][var].count()\n",
    "    print(f\"Existen {cantidad} valores en {var} con el valor -\")\n",
    "\n",
    "for var in df.columns:\n",
    "    cantidad_nan = df[var].isna().sum()  # Contar los valores NaN en la columna\n",
    "    cantidad_no_cero = (df[var] != 0).sum()  # Contar los valores no cero en la columna\n",
    "\n",
    "    if cantidad_nan > 0 and cantidad_no_cero > 0:\n",
    "        print(f\"Existen {cantidad_nan} valores NaN en {var}\")"
   ]
  },
  {
   "cell_type": "code",
   "execution_count": null,
   "id": "b10a4662",
   "metadata": {
    "papermill": {
     "duration": 0.048039,
     "end_time": "2025-03-24T21:14:56.662066",
     "exception": false,
     "start_time": "2025-03-24T21:14:56.614027",
     "status": "completed"
    },
    "tags": []
   },
   "outputs": [],
   "source": []
  },
  {
   "cell_type": "code",
   "execution_count": null,
   "id": "19e19577",
   "metadata": {
    "execution": {
     "iopub.execute_input": "2025-03-24T21:14:56.761091Z",
     "iopub.status.busy": "2025-03-24T21:14:56.760703Z",
     "iopub.status.idle": "2025-03-24T21:15:01.563640Z",
     "shell.execute_reply": "2025-03-24T21:15:01.562278Z"
    },
    "papermill": {
     "duration": 4.858801,
     "end_time": "2025-03-24T21:15:01.568940",
     "exception": false,
     "start_time": "2025-03-24T21:14:56.710139",
     "status": "completed"
    },
    "tags": []
   },
   "outputs": [],
   "source": [
    "# Mediante el diagrama de cajas y bigotes vemos un resumen visual de la distribución de cada\n",
    "# uno de las variables independientes con respecto a la dependiente\n",
    "# Podemos observar la distribución de los distintos grupos\n",
    "\n",
    "fig = plt.figure(figsize=(20, 50))\n",
    "i = 1\n",
    "\n",
    "for var_num in df.select_dtypes(include=[\"int64\", \"float64\"]).columns[1:16]:\n",
    "    ax = fig.add_subplot(4, 4, i)\n",
    "    sns.boxplot(x=df.Target, y=var_num, data=df)\n",
    "    plt.title(var_num)\n",
    "    i += 1\n",
    "fig.tight_layout()"
   ]
  },
  {
   "cell_type": "code",
   "execution_count": null,
   "id": "48627417",
   "metadata": {
    "execution": {
     "iopub.execute_input": "2025-03-24T21:15:01.683907Z",
     "iopub.status.busy": "2025-03-24T21:15:01.683523Z",
     "iopub.status.idle": "2025-03-24T21:15:01.687679Z",
     "shell.execute_reply": "2025-03-24T21:15:01.686510Z"
    },
    "papermill": {
     "duration": 0.063984,
     "end_time": "2025-03-24T21:15:01.689559",
     "exception": false,
     "start_time": "2025-03-24T21:15:01.625575",
     "status": "completed"
    },
    "tags": []
   },
   "outputs": [],
   "source": [
    "# upper_bounds={}\n",
    "# lower_bounds={}\n",
    "# for col in df.select_dtypes(include=['int64','float64']).columns[1:26]:\n",
    "#    values=df[col]\n",
    "#    upper_bounds[col]=values.mean()+4*values.std()\n",
    "#    lower_bounds[col]=values.mean()-4*values.std()\n",
    "#\n",
    "# for col in df.select_dtypes(include=['int64','float64']).columns[1:26]:\n",
    "#    values=df[col]\n",
    "#    if(df[values>upper_bounds[col]][col].count() > 0):\n",
    "#        print(\"Por encima\")\n",
    "#        print(df[values>upper_bounds[col]][col])\n",
    "#    if(df[values<lower_bounds[col]][col].count() > 0):\n",
    "#        print(\"Por debajo\")\n",
    "#        print(df[values<lower_bounds[col]][col])"
   ]
  },
  {
   "cell_type": "code",
   "execution_count": null,
   "id": "9d7b2bd1",
   "metadata": {
    "execution": {
     "iopub.execute_input": "2025-03-24T21:15:01.801810Z",
     "iopub.status.busy": "2025-03-24T21:15:01.801463Z",
     "iopub.status.idle": "2025-03-24T21:15:06.568563Z",
     "shell.execute_reply": "2025-03-24T21:15:06.567311Z"
    },
    "papermill": {
     "duration": 4.830025,
     "end_time": "2025-03-24T21:15:06.575407",
     "exception": false,
     "start_time": "2025-03-24T21:15:01.745382",
     "status": "completed"
    },
    "tags": []
   },
   "outputs": [],
   "source": [
    "fig = plt.figure(figsize=(20, 50))\n",
    "i = 1\n",
    "\n",
    "for var_num in df.select_dtypes(include=[\"int64\", \"float64\"]).columns[1:16]:\n",
    "    ax = fig.add_subplot(4, 4, i)\n",
    "    sns.violinplot(x=df.Target, y=var_num, data=df)\n",
    "    plt.title(var_num)\n",
    "    i += 1\n",
    "fig.tight_layout()"
   ]
  },
  {
   "cell_type": "markdown",
   "id": "a3939336",
   "metadata": {
    "papermill": {
     "duration": 0.065472,
     "end_time": "2025-03-24T21:15:06.707305",
     "exception": false,
     "start_time": "2025-03-24T21:15:06.641833",
     "status": "completed"
    },
    "tags": []
   },
   "source": [
    "#### Conclusion"
   ]
  },
  {
   "cell_type": "markdown",
   "id": "b5832b3e",
   "metadata": {
    "papermill": {
     "duration": 0.0643,
     "end_time": "2025-03-24T21:15:06.837409",
     "exception": false,
     "start_time": "2025-03-24T21:15:06.773109",
     "status": "completed"
    },
    "tags": []
   },
   "source": [
    "En este conjunto de datos (df_train.parquet). Tenemos informacion de pacientes diagnosticados con cancer de mama (mujeres), que estan entre los 40 y 80 años. Estos pacientes. con un (1) riesgo de cancer diferente a mama. La presion esta en los siguientes rangos: sistolica 120-140 y diastolica 70-90 , los antecendentes dicen que los los uqe si tienen antecedentes familiares solo el 8% tambien tiene cancer de mama , el 20% tiene otro tipo de cancer . en promedio estan en un peso de 70Kg y una estatura promedio de 155cm"
   ]
  },
  {
   "cell_type": "code",
   "execution_count": null,
   "id": "f5f1878d",
   "metadata": {
    "papermill": {
     "duration": 0.062321,
     "end_time": "2025-03-24T21:15:06.962137",
     "exception": false,
     "start_time": "2025-03-24T21:15:06.899816",
     "status": "completed"
    },
    "tags": []
   },
   "outputs": [],
   "source": []
  }
 ],
 "metadata": {
  "kaggle": {
   "accelerator": "none",
   "dataSources": [
    {
     "databundleVersionId": 11455223,
     "sourceId": 96400,
     "sourceType": "competition"
    }
   ],
   "dockerImageVersionId": 30918,
   "isGpuEnabled": false,
   "isInternetEnabled": true,
   "language": "python",
   "sourceType": "notebook"
  },
  "kernelspec": {
   "display_name": "Python 3",
   "language": "python",
   "name": "python3"
  },
  "language_info": {
   "codemirror_mode": {
    "name": "ipython",
    "version": 3
   },
   "file_extension": ".py",
   "mimetype": "text/x-python",
   "name": "python",
   "nbconvert_exporter": "python",
   "pygments_lexer": "ipython3",
   "version": "3.10.12"
  },
  "papermill": {
   "default_parameters": {},
   "duration": 44.674609,
   "end_time": "2025-03-24T21:15:07.947836",
   "environment_variables": {},
   "exception": null,
   "input_path": "__notebook__.ipynb",
   "output_path": "__notebook__.ipynb",
   "parameters": {},
   "start_time": "2025-03-24T21:14:23.273227",
   "version": "2.6.0"
  }
 },
 "nbformat": 4,
 "nbformat_minor": 5
}
